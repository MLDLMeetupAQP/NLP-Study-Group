{
  "nbformat": 4,
  "nbformat_minor": 0,
  "metadata": {
    "kernelspec": {
      "display_name": "Python 3",
      "language": "python",
      "name": "python3"
    },
    "language_info": {
      "codemirror_mode": {
        "name": "ipython",
        "version": 3
      },
      "file_extension": ".py",
      "mimetype": "text/x-python",
      "name": "python",
      "nbconvert_exporter": "python",
      "pygments_lexer": "ipython3",
      "version": "3.7.1"
    },
    "colab": {
      "name": "NLP_C1_W3_lecture_nb_01.ipynb",
      "provenance": []
    }
  },
  "cells": [
    {
      "cell_type": "markdown",
      "metadata": {
        "id": "ws2X7CqVLwsQ"
      },
      "source": [
        "# Linear algebra in Python with NumPy\n"
      ]
    },
    {
      "cell_type": "markdown",
      "metadata": {
        "id": "sYxvW3ljLwsp"
      },
      "source": [
        "In this lab, you will have the opportunity to remember some basic concepts about linear algebra and how to use them in Python.\n",
        "\n",
        "Numpy is one of the most used libraries in Python for arrays manipulation. It adds to Python a set of functions that allows us to operate on large multidimensional arrays with just a few lines. So forget about writing nested loops for adding matrices! With NumPy, this is as simple as adding numbers.\n",
        "\n",
        "Let us import the `numpy` library and assign the alias `np` for it. We will follow this convention in almost every notebook in this course, and you'll see this in many resources outside this course as well."
      ]
    },
    {
      "cell_type": "code",
      "metadata": {
        "id": "voQgwF67Lwsv"
      },
      "source": [
        "import numpy as np  # The swiss knife of the data scientist."
      ],
      "execution_count": null,
      "outputs": []
    },
    {
      "cell_type": "markdown",
      "metadata": {
        "id": "qhtGkWqoLws1"
      },
      "source": [
        "## Defining lists and numpy arrays"
      ]
    },
    {
      "cell_type": "code",
      "metadata": {
        "id": "VOaZ1dmqLws6"
      },
      "source": [
        "alist = [1, 2, 3, 4, 5]   # Define a python list. It looks like an np array\n",
        "narray = np.array([1, 2, 3, 4]) # Define a numpy array"
      ],
      "execution_count": null,
      "outputs": []
    },
    {
      "cell_type": "markdown",
      "metadata": {
        "id": "MA7w4QxXLws8"
      },
      "source": [
        "Note the difference between a Python list and a NumPy array."
      ]
    },
    {
      "cell_type": "code",
      "metadata": {
        "id": "PpKGwQjULws_"
      },
      "source": [
        "print(alist)\n",
        "print(narray)\n",
        "\n",
        "print(type(alist))\n",
        "print(type(narray))"
      ],
      "execution_count": null,
      "outputs": []
    },
    {
      "cell_type": "markdown",
      "metadata": {
        "id": "an4pKl9dLwtG"
      },
      "source": [
        "## Algebraic operators on NumPy arrays vs. Python lists\n",
        "\n",
        "One of the common beginner mistakes is to mix up the concepts of NumPy arrays and Python lists. Just observe the next example, where we add two objects of the two mentioned types. Note that the '+' operator on NumPy arrays perform an element-wise addition, while the same operation on Python lists results in a list concatenation. Be careful while coding. Knowing this can save many headaches."
      ]
    },
    {
      "cell_type": "code",
      "metadata": {
        "id": "R2OEnRywLwtI"
      },
      "source": [
        "print(narray + narray)\n",
        "print(alist + alist)"
      ],
      "execution_count": null,
      "outputs": []
    },
    {
      "cell_type": "markdown",
      "metadata": {
        "id": "RDTaSP99LwtL"
      },
      "source": [
        "It is the same as with the product operator, `*`. In the first case, we scale the vector, while in the second case, we concatenate three times the same list."
      ]
    },
    {
      "cell_type": "code",
      "metadata": {
        "id": "9A0lQ5mpLwtO"
      },
      "source": [
        "print(narray * 3)\n",
        "print(alist * 3)"
      ],
      "execution_count": null,
      "outputs": []
    },
    {
      "cell_type": "markdown",
      "metadata": {
        "id": "f6j6w8KzLwtb"
      },
      "source": [
        "Be aware of the difference because, within the same function,  both types of arrays can appear. \n",
        "Numpy arrays are designed for numerical and matrix operations, while lists are for more general purposes."
      ]
    },
    {
      "cell_type": "markdown",
      "metadata": {
        "id": "gO-4rG9TLwtd"
      },
      "source": [
        "## Matrix or Array of Arrays\n",
        "\n",
        "In linear algebra, a matrix is a structure composed of n rows by m columns. That means each row must have the same number of columns. With NumPy, we have two ways to create a matrix:\n",
        "* Creating an array of arrays using `np.array` (recommended). \n",
        "* Creating a matrix using `np.matrix` (still available but might be removed soon).\n",
        "\n",
        "NumPy arrays or lists can be used to initialize a matrix, but the resulting matrix will be composed of NumPy arrays only."
      ]
    },
    {
      "cell_type": "code",
      "metadata": {
        "id": "V-q6FS6gLwte"
      },
      "source": [
        "npmatrix1 = np.array([narray, narray, narray]) # Matrix initialized with NumPy arrays\n",
        "npmatrix2 = np.array([alist, alist, alist]) # Matrix initialized with lists\n",
        "npmatrix3 = np.array([narray, [1, 1, 1, 1], narray]) # Matrix initialized with both types\n",
        "\n",
        "print(npmatrix1)\n",
        "print(npmatrix2)\n",
        "print(npmatrix3)"
      ],
      "execution_count": null,
      "outputs": []
    },
    {
      "cell_type": "markdown",
      "metadata": {
        "id": "LsK-VguOLwtg"
      },
      "source": [
        "However, when defining a matrix, be sure that all the rows contain the same number of elements. Otherwise, the linear algebra operations could lead to unexpected results.\n",
        "\n",
        "Analyze the following two examples:"
      ]
    },
    {
      "cell_type": "code",
      "metadata": {
        "id": "VHsQsRv8Lwti"
      },
      "source": [
        "# Example 1:\n",
        "\n",
        "okmatrix = np.array([[1, 2], [3, 4]]) # Define a 2x2 matrix\n",
        "print(okmatrix) # Print okmatrix\n",
        "print(okmatrix * 2) # Print a scaled version of okmatrix"
      ],
      "execution_count": null,
      "outputs": []
    },
    {
      "cell_type": "code",
      "metadata": {
        "id": "y0W9Iuk7Lwtl"
      },
      "source": [
        "# Example 2:\n",
        "\n",
        "badmatrix = np.array([[1, 2], [3, 4], [5, 6, 7]]) # Define a matrix. Note the third row contains 3 elements\n",
        "print(badmatrix) # Print the malformed matrix\n",
        "print(badmatrix * 2) # It is supposed to scale the whole matrix"
      ],
      "execution_count": null,
      "outputs": []
    },
    {
      "cell_type": "markdown",
      "metadata": {
        "id": "zDDstDpDLwtm"
      },
      "source": [
        "## Scaling and translating matrices\n",
        "\n",
        "Now that you know how to build correct NumPy arrays and matrices, let us see how easy it is to operate with them in Python using the regular algebraic operators like + and -. \n",
        "\n",
        "Operations can be performed between arrays and arrays or between arrays and scalars."
      ]
    },
    {
      "cell_type": "code",
      "metadata": {
        "id": "aG2dEhLGLwtm"
      },
      "source": [
        "# Scale by 2 and translate 1 unit the matrix\n",
        "result = okmatrix * 2 + 1 # For each element in the matrix, multiply by 2 and add 1\n",
        "print(result)"
      ],
      "execution_count": null,
      "outputs": []
    },
    {
      "cell_type": "code",
      "metadata": {
        "id": "wtVoZ6GGLwto"
      },
      "source": [
        "# Add two sum compatible matrices\n",
        "result1 = okmatrix + okmatrix\n",
        "print(result1)\n",
        "\n",
        "# Subtract two sum compatible matrices. This is called the difference vector\n",
        "result2 = okmatrix - okmatrix\n",
        "print(result2)"
      ],
      "execution_count": null,
      "outputs": []
    },
    {
      "cell_type": "markdown",
      "metadata": {
        "id": "YUQ0ldsXLwtr"
      },
      "source": [
        "The product operator `*` when used on arrays or matrices indicates element-wise multiplications.\n",
        "Do not confuse it with the dot product."
      ]
    },
    {
      "cell_type": "code",
      "metadata": {
        "id": "P0jmIbZpLwt_"
      },
      "source": [
        "result = okmatrix * okmatrix # Multiply each element by itself\n",
        "print(result)"
      ],
      "execution_count": null,
      "outputs": []
    },
    {
      "cell_type": "markdown",
      "metadata": {
        "id": "Ea7Z8F77LwuC"
      },
      "source": [
        "## Transpose a matrix\n",
        "\n",
        "In linear algebra, the transpose of a matrix is an operator that flips a matrix over its diagonal, i.e., the transpose operator switches the row and column indices of the matrix producing another matrix. If the original matrix dimension is n by m, the resulting transposed matrix will be m by n.\n",
        "\n",
        "**T** denotes the transpose operations with NumPy matrices."
      ]
    },
    {
      "cell_type": "code",
      "metadata": {
        "id": "_fs1XZCqLwuD"
      },
      "source": [
        "matrix3x2 = np.array([[1, 2], [3, 4], [5, 6]]) # Define a 3x2 matrix\n",
        "print('Original matrix 3 x 2')\n",
        "print(matrix3x2)\n",
        "print('Transposed matrix 2 x 3')\n",
        "print(matrix3x2.T)"
      ],
      "execution_count": null,
      "outputs": []
    },
    {
      "cell_type": "markdown",
      "metadata": {
        "id": "YeEbB8QrLwuD"
      },
      "source": [
        "However, note that the transpose operation does not affect 1D arrays."
      ]
    },
    {
      "cell_type": "code",
      "metadata": {
        "id": "bDdpvR3bLwuE"
      },
      "source": [
        "nparray = np.array([1, 2, 3, 4]) # Define an array\n",
        "print('Original array')\n",
        "print(nparray)\n",
        "print('Transposed array')\n",
        "print(nparray.T)"
      ],
      "execution_count": null,
      "outputs": []
    },
    {
      "cell_type": "markdown",
      "metadata": {
        "id": "Hm5Ppvq-LwuH"
      },
      "source": [
        "perhaps in this case you wanted to do:"
      ]
    },
    {
      "cell_type": "code",
      "metadata": {
        "id": "gDsUzCmtLwuI"
      },
      "source": [
        "nparray = np.array([[1, 2, 3, 4]]) # Define a 1 x 4 matrix. Note the 2 level of square brackets\n",
        "print('Original array')\n",
        "print(nparray)\n",
        "print('Transposed array')\n",
        "print(nparray.T)"
      ],
      "execution_count": null,
      "outputs": []
    },
    {
      "cell_type": "markdown",
      "metadata": {
        "id": "2BRqRWOILwuJ"
      },
      "source": [
        "## Get the norm of a nparray or matrix\n",
        "\n",
        "In linear algebra, the norm of an n-dimensional vector $\\vec a$   is defined as:\n",
        "\n",
        "$$ norm(\\vec a) = ||\\vec a|| = \\sqrt {\\sum_{i=1}^{n} a_i ^ 2}$$\n",
        "\n",
        "Calculating the norm of vector or even of a matrix is a general operation when dealing with data. Numpy has a set of functions for linear algebra in the subpackage **linalg**, including the **norm** function. Let us see how to get the norm a given array or matrix:"
      ]
    },
    {
      "cell_type": "code",
      "metadata": {
        "id": "55B3h9ppLwuJ"
      },
      "source": [
        "nparray1 = np.array([1, 2, 3, 4]) # Define an array\n",
        "norm1 = np.linalg.norm(nparray1)\n",
        "\n",
        "nparray2 = np.array([[1, 2], [3, 4]]) # Define a 2 x 2 matrix. Note the 2 level of square brackets\n",
        "norm2 = np.linalg.norm(nparray2) \n",
        "\n",
        "print(norm1)\n",
        "print(norm2)"
      ],
      "execution_count": null,
      "outputs": []
    },
    {
      "cell_type": "markdown",
      "metadata": {
        "id": "K7CL0kR6LwuL"
      },
      "source": [
        "Note that without any other parameter, the norm function treats the matrix as being just an array of numbers.\n",
        "However, it is possible to get the norm by rows or by columns. The **axis** parameter controls the form of the operation: \n",
        "* **axis=0** means get the norm of each column\n",
        "* **axis=1** means get the norm of each row. "
      ]
    },
    {
      "cell_type": "code",
      "metadata": {
        "id": "4xRRPBQILwuM"
      },
      "source": [
        "nparray2 = np.array([[1, 1], [2, 2], [3, 3]]) # Define a 3 x 2 matrix. \n",
        "\n",
        "normByCols = np.linalg.norm(nparray2, axis=0) # Get the norm for each column. Returns 2 elements\n",
        "normByRows = np.linalg.norm(nparray2, axis=1) # get the norm for each row. Returns 3 elements\n",
        "\n",
        "print(normByCols)\n",
        "print(normByRows)"
      ],
      "execution_count": null,
      "outputs": []
    },
    {
      "cell_type": "markdown",
      "metadata": {
        "id": "bRjPCudcLwuN"
      },
      "source": [
        "However, there are more ways to get the norm of a matrix in Python.\n",
        "For that, let us see all the different ways of defining the dot product between 2 arrays."
      ]
    },
    {
      "cell_type": "markdown",
      "metadata": {
        "id": "LnHKDC10LwuN"
      },
      "source": [
        "## The dot product between arrays: All the flavors\n",
        "\n",
        "The dot product or scalar product or inner product between two vectors $\\vec a$ and $\\vec a$ of the same size is defined as:\n",
        "$$\\vec a \\cdot \\vec b = \\sum_{i=1}^{n} a_i b_i$$\n",
        "\n",
        "The dot product takes two vectors and returns a single number."
      ]
    },
    {
      "cell_type": "code",
      "metadata": {
        "id": "_viDOsP9LwuO"
      },
      "source": [
        "nparray1 = np.array([0, 1, 2, 3]) # Define an array\n",
        "nparray2 = np.array([4, 5, 6, 7]) # Define an array\n",
        "\n",
        "flavor1 = np.dot(nparray1, nparray2) # Recommended way\n",
        "print(flavor1)\n",
        "\n",
        "flavor2 = np.sum(nparray1 * nparray2) # Ok way\n",
        "print(flavor2)\n",
        "\n",
        "flavor3 = nparray1 @ nparray2         # Geeks way\n",
        "print(flavor3)\n",
        "\n",
        "# As you never should do:             # Noobs way\n",
        "flavor4 = 0\n",
        "for a, b in zip(nparray1, nparray2):\n",
        "    flavor4 += a * b\n",
        "    \n",
        "print(flavor4)"
      ],
      "execution_count": null,
      "outputs": []
    },
    {
      "cell_type": "markdown",
      "metadata": {
        "id": "yE6ho0r8LwuP"
      },
      "source": [
        "**We strongly recommend using np.dot, since it is the only method that accepts arrays and lists without problems**"
      ]
    },
    {
      "cell_type": "code",
      "metadata": {
        "id": "pHC64WjrLwuQ"
      },
      "source": [
        "norm1 = np.dot(np.array([1, 2]), np.array([3, 4])) # Dot product on nparrays\n",
        "norm2 = np.dot([1, 2], [3, 4]) # Dot product on python lists\n",
        "\n",
        "print(norm1, '=', norm2 )"
      ],
      "execution_count": null,
      "outputs": []
    },
    {
      "cell_type": "markdown",
      "metadata": {
        "id": "Tkr04YxuLwuS"
      },
      "source": [
        "Finally, note that the norm is the square root of the dot product of the vector with itself. That gives many options to write that function:\n",
        "\n",
        "$$ norm(\\vec a) = ||\\vec a|| = \\sqrt {\\sum_{i=1}^{n} a_i ^ 2} = \\sqrt {a \\cdot a}$$\n"
      ]
    },
    {
      "cell_type": "markdown",
      "metadata": {
        "id": "CEoLMIpxLwuc"
      },
      "source": [
        "## Sums by rows or columns\n",
        "\n",
        "Another general operation performed on matrices is the sum by rows or columns.\n",
        "Just as we did for the function norm, the **axis** parameter controls the form of the operation:\n",
        "* **axis=0** means to sum the elements of each column together. \n",
        "* **axis=1** means to sum the elements of each row together."
      ]
    },
    {
      "cell_type": "code",
      "metadata": {
        "id": "-UX_YJJlLwue"
      },
      "source": [
        "nparray2 = np.array([[1, -1], [2, -2], [3, -3]]) # Define a 3 x 2 matrix. \n",
        "\n",
        "sumByCols = np.sum(nparray2, axis=0) # Get the sum for each column. Returns 2 elements\n",
        "sumByRows = np.sum(nparray2, axis=1) # get the sum for each row. Returns 3 elements\n",
        "\n",
        "print('Sum by columns: ')\n",
        "print(sumByCols)\n",
        "print('Sum by rows:')\n",
        "print(sumByRows)"
      ],
      "execution_count": null,
      "outputs": []
    },
    {
      "cell_type": "markdown",
      "metadata": {
        "id": "iZqcnBkiLwuf"
      },
      "source": [
        "## Get the mean by rows or columns\n",
        "\n",
        "As with the sums, one can get the **mean** by rows or columns using the **axis** parameter. Just remember that the mean is the sum of the elements divided by the length of the vector\n",
        "$$ mean(\\vec a) = \\frac {{\\sum_{i=1}^{n} a_i }}{n}$$"
      ]
    },
    {
      "cell_type": "code",
      "metadata": {
        "id": "cLGBJHrMLwug"
      },
      "source": [
        "nparray2 = np.array([[1, -1], [2, -2], [3, -3]]) # Define a 3 x 2 matrix. Chosen to be a matrix with 0 mean\n",
        "\n",
        "mean = np.mean(nparray2) # Get the mean for the whole matrix\n",
        "meanByCols = np.mean(nparray2, axis=0) # Get the mean for each column. Returns 2 elements\n",
        "meanByRows = np.mean(nparray2, axis=1) # get the mean for each row. Returns 3 elements\n",
        "\n",
        "print('Matrix mean: ')\n",
        "print(mean)\n",
        "print('Mean by columns: ')\n",
        "print(meanByCols)\n",
        "print('Mean by rows:')\n",
        "print(meanByRows)"
      ],
      "execution_count": null,
      "outputs": []
    },
    {
      "cell_type": "markdown",
      "metadata": {
        "id": "p0EgM8ZcLwui"
      },
      "source": [
        "## Center the columns of a matrix\n",
        "\n",
        "Centering the attributes of a data matrix is another essential preprocessing step. Centering a matrix means to remove the column mean to each element inside the column. The sum by columns of a centered matrix is always 0.\n",
        "\n",
        "With NumPy, this process is as simple as this:"
      ]
    },
    {
      "cell_type": "code",
      "metadata": {
        "id": "KU4hXXc0Lwuk"
      },
      "source": [
        "nparray2 = np.array([[1, 1], [2, 2], [3, 3]]) # Define a 3 x 2 matrix. \n",
        "\n",
        "nparrayCentered = nparray2 - np.mean(nparray2, axis=0) # Remove the mean for each column\n",
        "\n",
        "print('Original matrix')\n",
        "print(nparray2)\n",
        "print('Centered by columns matrix')\n",
        "print(nparrayCentered)\n",
        "\n",
        "print('New mean by column')\n",
        "print(nparrayCentered.mean(axis=0))"
      ],
      "execution_count": null,
      "outputs": []
    },
    {
      "cell_type": "markdown",
      "metadata": {
        "id": "4DuKR0-YLwul"
      },
      "source": [
        "**Warning:** This process does not apply for row centering. In such cases, consider transposing the matrix, centering by columns, and then transpose back the result. \n",
        "\n",
        "See the example below:"
      ]
    },
    {
      "cell_type": "code",
      "metadata": {
        "id": "cDTp2_zELwum"
      },
      "source": [
        "nparray2 = np.array([[1, 3], [2, 4], [3, 5]]) # Define a 3 x 2 matrix. \n",
        "\n",
        "nparrayCentered = nparray2.T - np.mean(nparray2, axis=1) # Remove the mean for each row\n",
        "nparrayCentered = nparrayCentered.T # Transpose back the result\n",
        "\n",
        "print('Original matrix')\n",
        "print(nparray2)\n",
        "print('Centered by columns matrix')\n",
        "print(nparrayCentered)\n",
        "\n",
        "print('New mean by rows')\n",
        "print(nparrayCentered.mean(axis=1))"
      ],
      "execution_count": null,
      "outputs": []
    },
    {
      "cell_type": "markdown",
      "metadata": {
        "id": "isE_Cl-aLwun"
      },
      "source": [
        "Note that some operations can be performed using static functions like `np.sum()` or `np.mean()`, or by using the inner functions of the array"
      ]
    },
    {
      "cell_type": "code",
      "metadata": {
        "id": "FEJqjLLeLwuo"
      },
      "source": [
        "nparray2 = np.array([[1, 3], [2, 4], [3, 5]]) # Define a 3 x 2 matrix. \n",
        "\n",
        "mean1 = np.mean(nparray2) # Static way\n",
        "mean2 = nparray2.mean()   # Dinamic way\n",
        "\n",
        "print(mean1, ' == ', mean2)"
      ],
      "execution_count": null,
      "outputs": []
    },
    {
      "cell_type": "markdown",
      "metadata": {
        "id": "FVbnMd_zLwuq"
      },
      "source": [
        "Even if they are equivalent, we recommend the use of the static way always.\n",
        "\n",
        "**Congratulations! You have successfully reviewed vector and matrix operations with Numpy!**"
      ]
    }
  ]
}